{
 "cells": [
  {
   "attachments": {},
   "cell_type": "markdown",
   "metadata": {},
   "source": [
    "## SHAP Plots"
   ]
  },
  {
   "attachments": {},
   "cell_type": "markdown",
   "metadata": {},
   "source": [
    "#### Compute SHAP Values"
   ]
  },
  {
   "cell_type": "code",
   "execution_count": null,
   "metadata": {},
   "outputs": [],
   "source": [
    "import shap\n",
    "from sklearn.svm import OneClassSVM\n",
    "import numpy as np\n",
    "import matplotlib.pyplot as plt\n",
    "import pandas as pd\n",
    "\n",
    "shap_train = np.load('shap_train.npy', allow_pickle=True)\n",
    "shap_test = np.load('shap_test.npy', allow_pickle=True)\n",
    "\n",
    "folds = [1,  22]\n",
    "\n",
    "shap_values = []\n",
    "shap_data = []\n",
    "\n",
    "\n",
    "for fold in folds:\n",
    "\tprint(f' ---- COMPUTING FOLD NUMBER: {fold} -----')\n",
    "\n",
    "\tclf = OneClassSVM(nu=0.2, kernel='rbf', gamma=((1/77)**2), degree=3)\n",
    "\tclf.fit(shap_train[fold])\n",
    "\tdata = shap_test[fold].sample(frac=(1/3))\n",
    "\texplainer = shap.Explainer(clf.predict, data)\n",
    "\tshap_values.append(explainer(data))\n",
    "\tshap_data.append(data)\n",
    "\n",
    "shap_values = np.array(shap_values)\n",
    "shap_data = np.array(shap_data)"
   ]
  },
  {
   "attachments": {},
   "cell_type": "markdown",
   "metadata": {},
   "source": [
    "#### Summary Plots"
   ]
  },
  {
   "cell_type": "code",
   "execution_count": null,
   "metadata": {},
   "outputs": [],
   "source": [
    "plt.rcParams.update({'font.size': 9})\n",
    "for index, shap_value in enumerate(shap_values):\n",
    "\tfig = plt.figure(figsize=(10,8), dpi=400)\n",
    "\tax = fig.add_subplot(1,1,1)\n",
    "\n",
    "\tshap.summary_plot(shap_value, show=False, plot_size=[12,8], alpha=0.7)\n",
    "\tif index == 0:\n",
    "\t\tplt.title('SHAP Summary Plot - Best performing fold')\n",
    "\telse:\n",
    "\t\tplt.title('SHAP Summary Plot - Worst performing fold')\n",
    "\tplt.show()"
   ]
  },
  {
   "attachments": {},
   "cell_type": "markdown",
   "metadata": {},
   "source": [
    "#### Bar Plots"
   ]
  },
  {
   "cell_type": "code",
   "execution_count": null,
   "metadata": {},
   "outputs": [],
   "source": [
    "plt.rcParams.update({'font.size': 9})\n",
    "for index, shap_value in enumerate(shap_values):\n",
    "\tfig = plt.figure(figsize=(12,8), dpi=400)\n",
    "\tax = fig.add_subplot(1,1,1)\n",
    "\n",
    "\tshap.plots.bar(shap_value, max_display=15, show=False)\n",
    "\n",
    "\tif index == 0:\n",
    "\t\tplt.title('SHAP Bar Plot - Best performing fold')\n",
    "\telse:\n",
    "\t\tplt.title('SHAP Bar Plot - Worst performing fold')\n",
    "\tplt.show()\n"
   ]
  },
  {
   "attachments": {},
   "cell_type": "markdown",
   "metadata": {},
   "source": [
    "#### Violin Plots"
   ]
  },
  {
   "cell_type": "code",
   "execution_count": null,
   "metadata": {},
   "outputs": [],
   "source": [
    "plt.rcParams.update({'font.size': 9})\n",
    "for index, shap_value in enumerate(shap_values):\n",
    "\tfig = plt.figure(figsize=(20, 15), dpi=400)\n",
    "\tax = fig.add_subplot(1,1,1)\n",
    "\n",
    "\tshap.summary_plot(shap_value, show=False, plot_size=[20,15], plot_type='violin', max_display=80)\n",
    "\n",
    "\tif index == 0:\n",
    "\t\tplt.title('SHAP Violin Plot - Best performing fold')\n",
    "\telse:\n",
    "\t\tplt.title('SHAP Violin Plot - Worst performing fold')\n",
    "\tplt.show()"
   ]
  },
  {
   "cell_type": "code",
   "execution_count": null,
   "metadata": {},
   "outputs": [],
   "source": []
  }
 ],
 "metadata": {
  "kernelspec": {
   "display_name": "venv",
   "language": "python",
   "name": "python3"
  },
  "language_info": {
   "codemirror_mode": {
    "name": "ipython",
    "version": 3
   },
   "file_extension": ".py",
   "mimetype": "text/x-python",
   "name": "python",
   "nbconvert_exporter": "python",
   "pygments_lexer": "ipython3",
   "version": "3.8.8"
  },
  "orig_nbformat": 4,
  "vscode": {
   "interpreter": {
    "hash": "0af35ced4013b40c48ef8bea2bd8893a84400903cabc48180593f96176f9d4b4"
   }
  }
 },
 "nbformat": 4,
 "nbformat_minor": 2
}
